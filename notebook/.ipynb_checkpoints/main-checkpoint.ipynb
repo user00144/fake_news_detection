{
 "cells": [
  {
   "cell_type": "code",
   "execution_count": 6,
   "id": "61ca1307-f807-4542-a1b4-ce9715989146",
   "metadata": {},
   "outputs": [
    {
     "name": "stdout",
     "output_type": "stream",
     "text": [
      "The tokenizer class you load from this checkpoint is not the same type as the class this function is called from. It may result in unexpected tokenization. \n",
      "The tokenizer class you load from this checkpoint is 'XLNetTokenizer'. \n",
      "The class this function is called from is 'KoBERTTokenizer'.\n",
      "/opt/conda/lib/python3.10/site-packages/torch/_utils.py:831: UserWarning: TypedStorage is deprecated. It will be removed in the future and UntypedStorage will be the only storage class. This should only matter to you if you are using storages directly.  To access UntypedStorage directly, use tensor.untyped_storage() instead of tensor.storage()\n",
      "  return self.fget.__get__(instance, owner)()\n",
      "<<TRAIN>>\n",
      "==FOLD 0 / EPOCH 0==\n",
      "  0%|                                      | 11/29147 [00:05<3:44:28,  2.16it/s]^C\n",
      "  0%|                                      | 11/29147 [00:05<4:22:46,  1.85it/s]\n",
      "Traceback (most recent call last):\n",
      "  File \"/workspace/FakeNewsDetection/KoBERT_Model/train.py\", line 214, in <module>\n",
      "    train(train_dataset = train_dataset,\n",
      "  File \"/workspace/FakeNewsDetection/KoBERT_Model/train.py\", line 174, in train\n",
      "    train_loss, train_acc = train_func(model, train_dl, optim, loss_fn)\n",
      "  File \"/workspace/FakeNewsDetection/KoBERT_Model/train.py\", line 131, in train_func\n",
      "    t_loss += loss.item()\n",
      "KeyboardInterrupt\n"
     ]
    }
   ],
   "source": [
    "#test\n",
    "!python ../train_dynamic_quant.py"
   ]
  }
 ],
 "metadata": {
  "kernelspec": {
   "display_name": "Python 3 (ipykernel)",
   "language": "python",
   "name": "python3"
  },
  "language_info": {
   "codemirror_mode": {
    "name": "ipython",
    "version": 3
   },
   "file_extension": ".py",
   "mimetype": "text/x-python",
   "name": "python",
   "nbconvert_exporter": "python",
   "pygments_lexer": "ipython3",
   "version": "3.10.13"
  }
 },
 "nbformat": 4,
 "nbformat_minor": 5
}
