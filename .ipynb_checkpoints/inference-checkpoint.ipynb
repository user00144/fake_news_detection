{
 "cells": [
  {
   "cell_type": "code",
   "execution_count": null,
   "id": "67581985-b12c-4f42-b3a7-1a4bef2b4fae",
   "metadata": {},
   "outputs": [],
   "source": []
  },
  {
   "cell_type": "code",
   "execution_count": 1,
   "id": "1b2af994-377e-452f-ac6b-d78b038ab70d",
   "metadata": {},
   "outputs": [
    {
     "name": "stderr",
     "output_type": "stream",
     "text": [
      "/opt/conda/lib/python3.10/site-packages/torch/_utils.py:831: UserWarning: TypedStorage is deprecated. It will be removed in the future and UntypedStorage will be the only storage class. This should only matter to you if you are using storages directly.  To access UntypedStorage directly, use tensor.untyped_storage() instead of tensor.storage()\n",
      "  return self.fget.__get__(instance, owner)()\n"
     ]
    }
   ],
   "source": [
    "import torch\n",
    "import torch.nn as nn\n",
    "from transformers import BertModel, BertPreTrainedModel\n",
    "from transformers import AutoModel, AutoConfig\n",
    "\n",
    "device = torch.device('cuda' if torch.cuda.is_available() else 'cpu')\n",
    "\n",
    "\n",
    "class Model(BertPreTrainedModel) :\n",
    "    def __init__(self, output_classes, config) :\n",
    "        super().__init__(config)\n",
    "        self.bert = BertModel.from_pretrained(\"skt/kobert-base-v1\", config=config)\n",
    "        self.output_layer = nn.Linear(config.hidden_size, output_classes)\n",
    "        self.dropout = nn.Dropout(config.hidden_dropout_prob)\n",
    "        self.dense = nn.Linear(config.hidden_size, config.hidden_size)\n",
    "\n",
    "\n",
    "    def forward(self, input_ids, attention_mask) :\n",
    "        hidden_state = self.bert(input_ids = input_ids,\n",
    "                                 attention_mask = attention_mask)\n",
    "        data = hidden_state[1]\n",
    "        output = self.dropout(data)\n",
    "        output = self.dense(output)\n",
    "        output = torch.tanh(output)\n",
    "        output = self.dropout(output)\n",
    "        output = self.output_layer(output)\n",
    "        return output\n",
    "\n",
    "conf =  AutoConfig.from_pretrained(\"skt/kobert-base-v1\")\n",
    "model = Model(output_classes = 2, config = conf).to(device)"
   ]
  },
  {
   "cell_type": "code",
   "execution_count": 2,
   "id": "ecd571ed-9e82-45f4-9b60-d8ee53fd6b90",
   "metadata": {},
   "outputs": [
    {
     "name": "stderr",
     "output_type": "stream",
     "text": [
      "The tokenizer class you load from this checkpoint is not the same type as the class this function is called from. It may result in unexpected tokenization. \n",
      "The tokenizer class you load from this checkpoint is 'XLNetTokenizer'. \n",
      "The class this function is called from is 'KoBERTTokenizer'.\n"
     ]
    }
   ],
   "source": [
    "#import dataframe\n",
    "import pandas as pd\n",
    "df_inf = pd.read_csv('news01.csv')\n",
    "\n",
    "#get tokenizer\n",
    "from kobert_tokenizer import KoBERTTokenizer\n",
    "tokenizer = KoBERTTokenizer.from_pretrained('skt/kobert-base-v1', last_hidden_states=True)"
   ]
  },
  {
   "cell_type": "code",
   "execution_count": null,
   "id": "86fc8ad1-8252-44d0-ac1d-63bc9efc398c",
   "metadata": {},
   "outputs": [],
   "source": []
  },
  {
   "cell_type": "code",
   "execution_count": 3,
   "id": "c0ca5707-ead6-4052-ad6e-32f0d37fa0ff",
   "metadata": {},
   "outputs": [],
   "source": [
    "from torch.utils.data import DataLoader, Dataset\n",
    "from tqdm import tqdm\n",
    "\n",
    "\n",
    "class CustomDataset(Dataset) :\n",
    "    def __init__(self, dataframe, tokenizer, max_length) :\n",
    "        self.dataframe = dataframe\n",
    "        self.tokenizer = tokenizer\n",
    "        self.max_length = max_length\n",
    "\n",
    "    def __getitem__(self, x) :\n",
    "        data = self.dataframe.loc[x].title + '[CLS][PAD][PAD]' + self.dataframe.loc[x].content\n",
    "        data = self.tokenize(data)\n",
    "        input_ids = data.input_ids.squeeze()\n",
    "        attention_mask = data.attention_mask.squeeze()\n",
    "\n",
    "        return input_ids, attention_mask\n",
    "\n",
    "    def tokenize(self, data) :\n",
    "        token = self.tokenizer(data, padding = 'max_length', max_length = self.max_length, truncation = True, return_tensors = \"pt\")\n",
    "        del token['token_type_ids']\n",
    "        return token\n",
    "    \n",
    "    def __len__(self) :\n",
    "        return len(self.dataframe)\n",
    "\n",
    "test_dataset = CustomDataset(dataframe = df_inf,\n",
    "                             tokenizer = tokenizer,\n",
    "                             max_length = 512)\n",
    "test_dataloader = DataLoader(test_dataset, batch_size = 8, num_workers = 4, shuffle = False)\n",
    "\n",
    "def inference(model, dataloader) :\n",
    "    outputs = []\n",
    "    model.eval()\n",
    "    with torch.no_grad() :\n",
    "        for batch, (input_ids, attention_mask) in enumerate(tqdm(dataloader)) :\n",
    "            input_ids, attention_mask = input_ids.to(device), attention_mask.to(device)\n",
    "            outs = model(input_ids = input_ids, attention_mask = attention_mask)\n",
    "            outs = torch.softmax(outs, dim=1)\n",
    "            outputs.append(outs)\n",
    "    return outputs"
   ]
  },
  {
   "cell_type": "code",
   "execution_count": 55,
   "id": "761a783a-283e-4ec9-8277-b5111e5025dc",
   "metadata": {},
   "outputs": [
    {
     "name": "stderr",
     "output_type": "stream",
     "text": [
      "100%|██████████| 45/45 [00:02<00:00, 16.58it/s]\n",
      "100%|██████████| 45/45 [00:02<00:00, 16.42it/s]\n",
      "100%|██████████| 45/45 [00:02<00:00, 16.51it/s]\n",
      "100%|██████████| 45/45 [00:02<00:00, 16.50it/s]\n",
      "100%|██████████| 45/45 [00:02<00:00, 16.44it/s]\n"
     ]
    }
   ],
   "source": [
    "data = []\n",
    "\n",
    "for i in range(5):\n",
    "    model.load_state_dict(torch.load(f'./models/best_w_{i}.pth'))\n",
    "    data.append(inference(model, test_dataloader))"
   ]
  },
  {
   "cell_type": "code",
   "execution_count": 65,
   "id": "1990ada5-c431-49de-a424-bb6717211861",
   "metadata": {},
   "outputs": [
    {
     "data": {
      "text/plain": [
       "array([[1.2459039e-03, 9.9875414e-01],\n",
       "       [3.4877434e-05, 9.9996507e-01],\n",
       "       [2.5154266e-05, 9.9997485e-01],\n",
       "       [9.9992955e-01, 7.0484981e-05],\n",
       "       [5.8660531e-05, 9.9994135e-01],\n",
       "       [4.3162177e-05, 9.9995685e-01],\n",
       "       [3.4848446e-05, 9.9996519e-01],\n",
       "       [2.7014319e-05, 9.9997294e-01]], dtype=float32)"
      ]
     },
     "execution_count": 65,
     "metadata": {},
     "output_type": "execute_result"
    }
   ],
   "source": [
    "data[0][0]\n"
   ]
  },
  {
   "cell_type": "code",
   "execution_count": 84,
   "id": "e44b52da-b9c8-43e2-b4e0-42e435303ed2",
   "metadata": {},
   "outputs": [],
   "source": [
    "import numpy as np\n",
    "\n",
    "pro = 0\n",
    "\n",
    "\n",
    "for i in range(5) :\n",
    "    aa = []\n",
    "    for a in range(len(data[0])) :\n",
    "        aa.extend(data[0][a])\n",
    "    ai = np.array(aa)\n",
    "    pro += ai"
   ]
  },
  {
   "cell_type": "code",
   "execution_count": 90,
   "id": "71289a28-8dc6-4f04-90f6-ece65f7fb47a",
   "metadata": {},
   "outputs": [],
   "source": [
    "sss = pro/5"
   ]
  },
  {
   "cell_type": "code",
   "execution_count": 95,
   "id": "aff90ca9-c955-4e47-930b-fcf47f444556",
   "metadata": {},
   "outputs": [
    {
     "data": {
      "text/plain": [
       "(355, 2)"
      ]
     },
     "execution_count": 95,
     "metadata": {},
     "output_type": "execute_result"
    }
   ],
   "source": [
    "np.shape(sss)"
   ]
  },
  {
   "cell_type": "code",
   "execution_count": 99,
   "id": "f91ea4f2-6e97-4e8a-9832-08587d71f6df",
   "metadata": {},
   "outputs": [],
   "source": [
    "t = pd.read_csv('inference.csv')"
   ]
  },
  {
   "cell_type": "code",
   "execution_count": 103,
   "id": "de394a8c-5081-46c1-918a-0712c7bd992a",
   "metadata": {},
   "outputs": [
    {
     "data": {
      "text/plain": [
       "0    355\n",
       "1    355\n",
       "dtype: int64"
      ]
     },
     "execution_count": 103,
     "metadata": {},
     "output_type": "execute_result"
    }
   ],
   "source": [
    "t.count()"
   ]
  },
  {
   "cell_type": "code",
   "execution_count": 107,
   "id": "a648ffd6-2265-4102-8a55-3979582c4d07",
   "metadata": {},
   "outputs": [
    {
     "data": {
      "application/vnd.plotly.v1+json": {
       "config": {
        "plotlyServerURL": "https://plot.ly"
       },
       "data": [
        {
         "alignmentgroup": "True",
         "bingroup": "x",
         "hovertemplate": "0=%{x}<br>count=%{y}<extra></extra>",
         "legendgroup": "",
         "marker": {
          "color": "#636efa",
          "pattern": {
           "shape": ""
          }
         },
         "name": "",
         "nbinsx": 2,
         "offsetgroup": "",
         "orientation": "v",
         "showlegend": false,
         "type": "histogram",
         "x": [
          0.0012459039,
          3.4877434e-05,
          2.5154266e-05,
          0.99992955,
          5.8660527e-05,
          4.3162177e-05,
          3.4848446e-05,
          2.7014317e-05,
          3.208711e-05,
          0.00017648278,
          9.2143055e-05,
          0.9884919,
          3.6605175e-05,
          7.053958e-05,
          3.064346e-05,
          0.00013284823,
          2.4733235e-05,
          0.0021986908,
          4.4646356e-05,
          3.4611305e-05,
          3.926212e-05,
          0.0065601706,
          3.3285414e-05,
          0.999982,
          6.337849e-05,
          5.1020248e-05,
          0.00061381754,
          5.8412465e-05,
          0.40499562,
          0.00024551598,
          0.00053474074,
          0.00013731103,
          8.052297e-05,
          0.9999428,
          0.00041262418,
          5.466356e-05,
          0.9997231,
          0.9999236,
          3.8456106e-05,
          0.9999779,
          0.9976779,
          0.9999777,
          0.36885026,
          3.0154039e-05,
          6.7256624e-05,
          0.008251528,
          0.9999677,
          0.00010024719,
          0.00021678412,
          0.0006215968,
          3.8088212e-05,
          3.9181923e-05,
          0.99998236,
          0.9999857,
          0.99997824,
          0.00016755317,
          9.287684e-05,
          4.9963728e-05,
          0.00044924224,
          3.7918675e-05,
          7.71595e-05,
          4.2419106e-05,
          0.999975,
          0.05613015,
          6.9131194e-05,
          9.6344476e-05,
          4.0679057e-05,
          0.9997982,
          4.803627e-05,
          2.6167249e-05,
          3.821949e-05,
          2.7086606e-05,
          4.058463e-05,
          5.1650142e-05,
          0.00011014155,
          0.93349695,
          2.3783949e-05,
          0.00012353444,
          3.0905594e-05,
          4.565915e-05,
          8.9582405e-05,
          0.00011067763,
          0.99997246,
          0.9999689,
          3.6726087e-05,
          0.9999194,
          3.4399654e-05,
          3.2871296e-05,
          2.8566064e-05,
          0.0031674388,
          0.9999792,
          3.323463e-05,
          4.3153537e-05,
          7.16936e-05,
          0.030861283,
          0.9999881,
          2.6272193e-05,
          3.4296605e-05,
          3.6097772e-05,
          0.00014730866,
          0.9999751,
          3.6506728e-05,
          0.09764337,
          3.813957e-05,
          3.7972914e-05,
          0.00015067398,
          0.9989465,
          0.9999794,
          0.050140906,
          0.00029698515,
          0.00030411623,
          3.3368236e-05,
          0.0036122717,
          0.99998456,
          0.0025968996,
          2.6199885e-05,
          0.9999472,
          2.5609264e-05,
          5.8155456e-05,
          2.9608553e-05,
          7.763163e-05,
          4.1437535e-05,
          0.98675853,
          0.00080466096,
          2.7219914e-05,
          5.2079045e-05,
          4.2209034e-05,
          0.00022249355,
          4.3129425e-05,
          0.9999833,
          0.9998683,
          0.00083116145,
          7.542386e-05,
          0.9999713,
          0.980478,
          0.003926067,
          0.99998534,
          0.00030734285,
          0.9996597,
          0.9999874,
          0.0026798574,
          0.99998057,
          0.60457987,
          4.408485e-05,
          0.99996805,
          0.9999884,
          9.2601185e-05,
          0.00024286416,
          4.084796e-05,
          0.00046281554,
          3.558627e-05,
          5.5190398e-05,
          2.2315113e-05,
          4.4773245e-05,
          0.00023921471,
          0.9999851,
          0.0003849717,
          0.9997822,
          6.583382e-05,
          3.34609e-05,
          0.9775351,
          3.463283e-05,
          0.0026324324,
          3.1162836e-05,
          7.27287e-05,
          0.00029198854,
          0.9993208,
          0.00021716123,
          0.9999671,
          0.2916664,
          3.7276037e-05,
          0.9884263,
          4.3481323e-05,
          0.9999855,
          0.00015014676,
          5.6167446e-05,
          0.0002833269,
          2.3623386e-05,
          0.00015751614,
          3.2717802e-05,
          3.2819113e-05,
          0.00033161673,
          2.764093e-05,
          0.99998075,
          0.9993968,
          0.00089319714,
          4.0546485e-05,
          3.3968117e-05,
          0.99997234,
          0.000121833255,
          0.0001105164,
          0.0009469084,
          5.7305402e-05,
          2.3758494e-05,
          5.8857997e-05,
          3.4922232e-05,
          0.9998919,
          0.999606,
          6.232489e-05,
          2.9852381e-05,
          2.8931294e-05,
          5.8887923e-05,
          0.9998412,
          2.8407307e-05,
          3.0554693e-05,
          0.0013527025,
          0.99998236,
          3.836534e-05,
          3.629096e-05,
          3.6383968e-05,
          0.000112285474,
          6.9145965e-05,
          3.1957356e-05,
          0.9999874,
          2.4983045e-05,
          5.959726e-05,
          4.365828e-05,
          3.8471106e-05,
          4.6793255e-05,
          3.4864664e-05,
          0.9999751,
          0.99930286,
          3.594477e-05,
          0.00034157434,
          0.99982834,
          0.9998535,
          4.394927e-05,
          5.2979205e-05,
          0.9995965,
          0.00038273478,
          6.047474e-05,
          3.816311e-05,
          2.9557094e-05,
          3.85124e-05,
          5.688947e-05,
          0.99998224,
          0.99998015,
          0.9999735,
          8.980197e-05,
          0.0037836707,
          3.8279457e-05,
          4.1247666e-05,
          4.582623e-05,
          6.992762e-05,
          3.2654898e-05,
          0.00016673526,
          0.00021128778,
          0.99942553,
          3.616248e-05,
          0.99954873,
          3.1963515e-05,
          0.00017546295,
          0.9999789,
          2.9760879e-05,
          4.7975383e-05,
          2.5044807e-05,
          0.91068155,
          0.4820786,
          7.0601694e-05,
          0.99998605,
          3.992098e-05,
          0.48404652,
          0.999961,
          0.00014289682,
          6.11655e-05,
          5.6628145e-05,
          3.201672e-05,
          0.00040922913,
          0.9596739,
          0.99998534,
          0.9978288,
          0.9999846,
          4.0131872e-05,
          6.116503e-05,
          0.9999277,
          0.9997365,
          5.2462372e-05,
          3.9282637e-05,
          5.131751e-05,
          5.430112e-05,
          0.9999865,
          0.99812585,
          0.998841,
          0.0018507395,
          2.8581324e-05,
          3.3711174e-05,
          8.0861624e-05,
          0.0001235627,
          6.071153e-05,
          0.000113495764,
          0.11329458,
          0.82379544,
          0.00037100006,
          3.925826e-05,
          0.00010582663,
          4.656765e-05,
          4.9918723e-05,
          6.0418242e-05,
          8.2890816e-05,
          3.1964522e-05,
          0.99991286,
          6.267277e-05,
          4.1978663e-05,
          0.99995536,
          3.2102264e-05,
          0.98509943,
          4.3817447e-05,
          2.8050588e-05,
          0.99998236,
          0.0002465354,
          0.9939189,
          0.9967616,
          0.99998486,
          0.00016843146,
          0.022709945,
          0.99993783,
          7.962167e-05,
          5.4991175e-05,
          5.041506e-05,
          0.0017999543,
          0.00039336985,
          6.870926e-05,
          0.00013459599,
          0.99998,
          0.00037453775,
          0.9999827,
          0.99998075,
          0.69063574,
          4.7312504e-05,
          0.9999776,
          0.00040259882,
          4.4839737e-05,
          5.0771458e-05,
          3.493579e-05,
          4.8114296e-05,
          0.9999852,
          0.99033964,
          6.3715415e-05,
          5.4436903e-05,
          0.9998123,
          0.00011143046,
          0.999982,
          3.5973062e-05,
          4.2647385e-05,
          0.0001987159,
          8.730855e-05,
          2.9398181e-05,
          0.99980366,
          0.00010474215,
          0.9938318,
          7.436891e-05,
          6.4057924e-05,
          0.99986726,
          9.333959e-05,
          3.5044803e-05
         ],
         "xaxis": "x",
         "yaxis": "y"
        }
       ],
       "layout": {
        "autosize": true,
        "barmode": "relative",
        "legend": {
         "tracegroupgap": 0
        },
        "margin": {
         "t": 60
        },
        "template": {
         "data": {
          "bar": [
           {
            "error_x": {
             "color": "#2a3f5f"
            },
            "error_y": {
             "color": "#2a3f5f"
            },
            "marker": {
             "line": {
              "color": "#E5ECF6",
              "width": 0.5
             },
             "pattern": {
              "fillmode": "overlay",
              "size": 10,
              "solidity": 0.2
             }
            },
            "type": "bar"
           }
          ],
          "barpolar": [
           {
            "marker": {
             "line": {
              "color": "#E5ECF6",
              "width": 0.5
             },
             "pattern": {
              "fillmode": "overlay",
              "size": 10,
              "solidity": 0.2
             }
            },
            "type": "barpolar"
           }
          ],
          "carpet": [
           {
            "aaxis": {
             "endlinecolor": "#2a3f5f",
             "gridcolor": "white",
             "linecolor": "white",
             "minorgridcolor": "white",
             "startlinecolor": "#2a3f5f"
            },
            "baxis": {
             "endlinecolor": "#2a3f5f",
             "gridcolor": "white",
             "linecolor": "white",
             "minorgridcolor": "white",
             "startlinecolor": "#2a3f5f"
            },
            "type": "carpet"
           }
          ],
          "choropleth": [
           {
            "colorbar": {
             "outlinewidth": 0,
             "ticks": ""
            },
            "type": "choropleth"
           }
          ],
          "contour": [
           {
            "colorbar": {
             "outlinewidth": 0,
             "ticks": ""
            },
            "colorscale": [
             [
              0,
              "#0d0887"
             ],
             [
              0.1111111111111111,
              "#46039f"
             ],
             [
              0.2222222222222222,
              "#7201a8"
             ],
             [
              0.3333333333333333,
              "#9c179e"
             ],
             [
              0.4444444444444444,
              "#bd3786"
             ],
             [
              0.5555555555555556,
              "#d8576b"
             ],
             [
              0.6666666666666666,
              "#ed7953"
             ],
             [
              0.7777777777777778,
              "#fb9f3a"
             ],
             [
              0.8888888888888888,
              "#fdca26"
             ],
             [
              1,
              "#f0f921"
             ]
            ],
            "type": "contour"
           }
          ],
          "contourcarpet": [
           {
            "colorbar": {
             "outlinewidth": 0,
             "ticks": ""
            },
            "type": "contourcarpet"
           }
          ],
          "heatmap": [
           {
            "colorbar": {
             "outlinewidth": 0,
             "ticks": ""
            },
            "colorscale": [
             [
              0,
              "#0d0887"
             ],
             [
              0.1111111111111111,
              "#46039f"
             ],
             [
              0.2222222222222222,
              "#7201a8"
             ],
             [
              0.3333333333333333,
              "#9c179e"
             ],
             [
              0.4444444444444444,
              "#bd3786"
             ],
             [
              0.5555555555555556,
              "#d8576b"
             ],
             [
              0.6666666666666666,
              "#ed7953"
             ],
             [
              0.7777777777777778,
              "#fb9f3a"
             ],
             [
              0.8888888888888888,
              "#fdca26"
             ],
             [
              1,
              "#f0f921"
             ]
            ],
            "type": "heatmap"
           }
          ],
          "heatmapgl": [
           {
            "colorbar": {
             "outlinewidth": 0,
             "ticks": ""
            },
            "colorscale": [
             [
              0,
              "#0d0887"
             ],
             [
              0.1111111111111111,
              "#46039f"
             ],
             [
              0.2222222222222222,
              "#7201a8"
             ],
             [
              0.3333333333333333,
              "#9c179e"
             ],
             [
              0.4444444444444444,
              "#bd3786"
             ],
             [
              0.5555555555555556,
              "#d8576b"
             ],
             [
              0.6666666666666666,
              "#ed7953"
             ],
             [
              0.7777777777777778,
              "#fb9f3a"
             ],
             [
              0.8888888888888888,
              "#fdca26"
             ],
             [
              1,
              "#f0f921"
             ]
            ],
            "type": "heatmapgl"
           }
          ],
          "histogram": [
           {
            "marker": {
             "pattern": {
              "fillmode": "overlay",
              "size": 10,
              "solidity": 0.2
             }
            },
            "type": "histogram"
           }
          ],
          "histogram2d": [
           {
            "colorbar": {
             "outlinewidth": 0,
             "ticks": ""
            },
            "colorscale": [
             [
              0,
              "#0d0887"
             ],
             [
              0.1111111111111111,
              "#46039f"
             ],
             [
              0.2222222222222222,
              "#7201a8"
             ],
             [
              0.3333333333333333,
              "#9c179e"
             ],
             [
              0.4444444444444444,
              "#bd3786"
             ],
             [
              0.5555555555555556,
              "#d8576b"
             ],
             [
              0.6666666666666666,
              "#ed7953"
             ],
             [
              0.7777777777777778,
              "#fb9f3a"
             ],
             [
              0.8888888888888888,
              "#fdca26"
             ],
             [
              1,
              "#f0f921"
             ]
            ],
            "type": "histogram2d"
           }
          ],
          "histogram2dcontour": [
           {
            "colorbar": {
             "outlinewidth": 0,
             "ticks": ""
            },
            "colorscale": [
             [
              0,
              "#0d0887"
             ],
             [
              0.1111111111111111,
              "#46039f"
             ],
             [
              0.2222222222222222,
              "#7201a8"
             ],
             [
              0.3333333333333333,
              "#9c179e"
             ],
             [
              0.4444444444444444,
              "#bd3786"
             ],
             [
              0.5555555555555556,
              "#d8576b"
             ],
             [
              0.6666666666666666,
              "#ed7953"
             ],
             [
              0.7777777777777778,
              "#fb9f3a"
             ],
             [
              0.8888888888888888,
              "#fdca26"
             ],
             [
              1,
              "#f0f921"
             ]
            ],
            "type": "histogram2dcontour"
           }
          ],
          "mesh3d": [
           {
            "colorbar": {
             "outlinewidth": 0,
             "ticks": ""
            },
            "type": "mesh3d"
           }
          ],
          "parcoords": [
           {
            "line": {
             "colorbar": {
              "outlinewidth": 0,
              "ticks": ""
             }
            },
            "type": "parcoords"
           }
          ],
          "pie": [
           {
            "automargin": true,
            "type": "pie"
           }
          ],
          "scatter": [
           {
            "fillpattern": {
             "fillmode": "overlay",
             "size": 10,
             "solidity": 0.2
            },
            "type": "scatter"
           }
          ],
          "scatter3d": [
           {
            "line": {
             "colorbar": {
              "outlinewidth": 0,
              "ticks": ""
             }
            },
            "marker": {
             "colorbar": {
              "outlinewidth": 0,
              "ticks": ""
             }
            },
            "type": "scatter3d"
           }
          ],
          "scattercarpet": [
           {
            "marker": {
             "colorbar": {
              "outlinewidth": 0,
              "ticks": ""
             }
            },
            "type": "scattercarpet"
           }
          ],
          "scattergeo": [
           {
            "marker": {
             "colorbar": {
              "outlinewidth": 0,
              "ticks": ""
             }
            },
            "type": "scattergeo"
           }
          ],
          "scattergl": [
           {
            "marker": {
             "colorbar": {
              "outlinewidth": 0,
              "ticks": ""
             }
            },
            "type": "scattergl"
           }
          ],
          "scattermapbox": [
           {
            "marker": {
             "colorbar": {
              "outlinewidth": 0,
              "ticks": ""
             }
            },
            "type": "scattermapbox"
           }
          ],
          "scatterpolar": [
           {
            "marker": {
             "colorbar": {
              "outlinewidth": 0,
              "ticks": ""
             }
            },
            "type": "scatterpolar"
           }
          ],
          "scatterpolargl": [
           {
            "marker": {
             "colorbar": {
              "outlinewidth": 0,
              "ticks": ""
             }
            },
            "type": "scatterpolargl"
           }
          ],
          "scatterternary": [
           {
            "marker": {
             "colorbar": {
              "outlinewidth": 0,
              "ticks": ""
             }
            },
            "type": "scatterternary"
           }
          ],
          "surface": [
           {
            "colorbar": {
             "outlinewidth": 0,
             "ticks": ""
            },
            "colorscale": [
             [
              0,
              "#0d0887"
             ],
             [
              0.1111111111111111,
              "#46039f"
             ],
             [
              0.2222222222222222,
              "#7201a8"
             ],
             [
              0.3333333333333333,
              "#9c179e"
             ],
             [
              0.4444444444444444,
              "#bd3786"
             ],
             [
              0.5555555555555556,
              "#d8576b"
             ],
             [
              0.6666666666666666,
              "#ed7953"
             ],
             [
              0.7777777777777778,
              "#fb9f3a"
             ],
             [
              0.8888888888888888,
              "#fdca26"
             ],
             [
              1,
              "#f0f921"
             ]
            ],
            "type": "surface"
           }
          ],
          "table": [
           {
            "cells": {
             "fill": {
              "color": "#EBF0F8"
             },
             "line": {
              "color": "white"
             }
            },
            "header": {
             "fill": {
              "color": "#C8D4E3"
             },
             "line": {
              "color": "white"
             }
            },
            "type": "table"
           }
          ]
         },
         "layout": {
          "annotationdefaults": {
           "arrowcolor": "#2a3f5f",
           "arrowhead": 0,
           "arrowwidth": 1
          },
          "autotypenumbers": "strict",
          "coloraxis": {
           "colorbar": {
            "outlinewidth": 0,
            "ticks": ""
           }
          },
          "colorscale": {
           "diverging": [
            [
             0,
             "#8e0152"
            ],
            [
             0.1,
             "#c51b7d"
            ],
            [
             0.2,
             "#de77ae"
            ],
            [
             0.3,
             "#f1b6da"
            ],
            [
             0.4,
             "#fde0ef"
            ],
            [
             0.5,
             "#f7f7f7"
            ],
            [
             0.6,
             "#e6f5d0"
            ],
            [
             0.7,
             "#b8e186"
            ],
            [
             0.8,
             "#7fbc41"
            ],
            [
             0.9,
             "#4d9221"
            ],
            [
             1,
             "#276419"
            ]
           ],
           "sequential": [
            [
             0,
             "#0d0887"
            ],
            [
             0.1111111111111111,
             "#46039f"
            ],
            [
             0.2222222222222222,
             "#7201a8"
            ],
            [
             0.3333333333333333,
             "#9c179e"
            ],
            [
             0.4444444444444444,
             "#bd3786"
            ],
            [
             0.5555555555555556,
             "#d8576b"
            ],
            [
             0.6666666666666666,
             "#ed7953"
            ],
            [
             0.7777777777777778,
             "#fb9f3a"
            ],
            [
             0.8888888888888888,
             "#fdca26"
            ],
            [
             1,
             "#f0f921"
            ]
           ],
           "sequentialminus": [
            [
             0,
             "#0d0887"
            ],
            [
             0.1111111111111111,
             "#46039f"
            ],
            [
             0.2222222222222222,
             "#7201a8"
            ],
            [
             0.3333333333333333,
             "#9c179e"
            ],
            [
             0.4444444444444444,
             "#bd3786"
            ],
            [
             0.5555555555555556,
             "#d8576b"
            ],
            [
             0.6666666666666666,
             "#ed7953"
            ],
            [
             0.7777777777777778,
             "#fb9f3a"
            ],
            [
             0.8888888888888888,
             "#fdca26"
            ],
            [
             1,
             "#f0f921"
            ]
           ]
          },
          "colorway": [
           "#636efa",
           "#EF553B",
           "#00cc96",
           "#ab63fa",
           "#FFA15A",
           "#19d3f3",
           "#FF6692",
           "#B6E880",
           "#FF97FF",
           "#FECB52"
          ],
          "font": {
           "color": "#2a3f5f"
          },
          "geo": {
           "bgcolor": "white",
           "lakecolor": "white",
           "landcolor": "#E5ECF6",
           "showlakes": true,
           "showland": true,
           "subunitcolor": "white"
          },
          "hoverlabel": {
           "align": "left"
          },
          "hovermode": "closest",
          "mapbox": {
           "style": "light"
          },
          "paper_bgcolor": "white",
          "plot_bgcolor": "#E5ECF6",
          "polar": {
           "angularaxis": {
            "gridcolor": "white",
            "linecolor": "white",
            "ticks": ""
           },
           "bgcolor": "#E5ECF6",
           "radialaxis": {
            "gridcolor": "white",
            "linecolor": "white",
            "ticks": ""
           }
          },
          "scene": {
           "xaxis": {
            "backgroundcolor": "#E5ECF6",
            "gridcolor": "white",
            "gridwidth": 2,
            "linecolor": "white",
            "showbackground": true,
            "ticks": "",
            "zerolinecolor": "white"
           },
           "yaxis": {
            "backgroundcolor": "#E5ECF6",
            "gridcolor": "white",
            "gridwidth": 2,
            "linecolor": "white",
            "showbackground": true,
            "ticks": "",
            "zerolinecolor": "white"
           },
           "zaxis": {
            "backgroundcolor": "#E5ECF6",
            "gridcolor": "white",
            "gridwidth": 2,
            "linecolor": "white",
            "showbackground": true,
            "ticks": "",
            "zerolinecolor": "white"
           }
          },
          "shapedefaults": {
           "line": {
            "color": "#2a3f5f"
           }
          },
          "ternary": {
           "aaxis": {
            "gridcolor": "white",
            "linecolor": "white",
            "ticks": ""
           },
           "baxis": {
            "gridcolor": "white",
            "linecolor": "white",
            "ticks": ""
           },
           "bgcolor": "#E5ECF6",
           "caxis": {
            "gridcolor": "white",
            "linecolor": "white",
            "ticks": ""
           }
          },
          "title": {
           "x": 0.05
          },
          "xaxis": {
           "automargin": true,
           "gridcolor": "white",
           "linecolor": "white",
           "ticks": "",
           "title": {
            "standoff": 15
           },
           "zerolinecolor": "white",
           "zerolinewidth": 2
          },
          "yaxis": {
           "automargin": true,
           "gridcolor": "white",
           "linecolor": "white",
           "ticks": "",
           "title": {
            "standoff": 15
           },
           "zerolinecolor": "white",
           "zerolinewidth": 2
          }
         }
        },
        "xaxis": {
         "anchor": "y",
         "autorange": false,
         "domain": [
          0,
          1
         ],
         "range": [
          -0.25,
          1.25
         ],
         "title": {
          "text": "0"
         },
         "type": "linear"
        },
        "yaxis": {
         "anchor": "x",
         "autorange": true,
         "domain": [
          0,
          1
         ],
         "range": [
          0,
          266.3157894736842
         ],
         "title": {
          "text": "count"
         }
        }
       }
      },
      "image/png": "[encoded data removed]",
      "text/html": [
       "<div>                            <div id=\"7592eedd-9547-4089-aabd-31cee189fc53\" class=\"plotly-graph-div\" style=\"height:525px; width:100%;\"></div>            <script type=\"text/javascript\">                require([\"plotly\"], function(Plotly) {                    window.PLOTLYENV=window.PLOTLYENV || {};                                    if (document.getElementById(\"7592eedd-9547-4089-aabd-31cee189fc53\")) {                    Plotly.newPlot(                        \"7592eedd-9547-4089-aabd-31cee189fc53\",                        [{\"alignmentgroup\":\"True\",\"bingroup\":\"x\",\"hovertemplate\":\"0=%{x}\\u003cbr\\u003ecount=%{y}\\u003cextra\\u003e\\u003c\\u002fextra\\u003e\",\"legendgroup\":\"\",\"marker\":{\"color\":\"#636efa\",\"pattern\":{\"shape\":\"\"}},\"name\":\"\",\"nbinsx\":2,\"offsetgroup\":\"\",\"orientation\":\"v\",\"showlegend\":false,\"x\":[0.0012459039,3.4877434e-05,2.5154266e-05,0.99992955,5.8660527e-05,4.3162177e-05,3.4848446e-05,2.7014317e-05,3.208711e-05,0.00017648278,9.2143055e-05,0.9884919,3.6605175e-05,7.053958e-05,3.064346e-05,0.00013284823,2.4733235e-05,0.0021986908,4.4646356e-05,3.4611305e-05,3.926212e-05,0.0065601706,3.3285414e-05,0.999982,6.337849e-05,5.1020248e-05,0.00061381754,5.8412465e-05,0.40499562,0.00024551598,0.00053474074,0.00013731103,8.052297e-05,0.9999428,0.00041262418,5.466356e-05,0.9997231,0.9999236,3.8456106e-05,0.9999779,0.9976779,0.9999777,0.36885026,3.0154039e-05,6.7256624e-05,0.008251528,0.9999677,0.00010024719,0.00021678412,0.0006215968,3.8088212e-05,3.9181923e-05,0.99998236,0.9999857,0.99997824,0.00016755317,9.287684e-05,4.9963728e-05,0.00044924224,3.7918675e-05,7.71595e-05,4.2419106e-05,0.999975,0.05613015,6.9131194e-05,9.6344476e-05,4.0679057e-05,0.9997982,4.803627e-05,2.6167249e-05,3.821949e-05,2.7086606e-05,4.058463e-05,5.1650142e-05,0.00011014155,0.93349695,2.3783949e-05,0.00012353444,3.0905594e-05,4.565915e-05,8.9582405e-05,0.00011067763,0.99997246,0.9999689,3.6726087e-05,0.9999194,3.4399654e-05,3.2871296e-05,2.8566064e-05,0.0031674388,0.9999792,3.323463e-05,4.3153537e-05,7.16936e-05,0.030861283,0.9999881,2.6272193e-05,3.4296605e-05,3.6097772e-05,0.00014730866,0.9999751,3.6506728e-05,0.09764337,3.813957e-05,3.7972914e-05,0.00015067398,0.9989465,0.9999794,0.050140906,0.00029698515,0.00030411623,3.3368236e-05,0.0036122717,0.99998456,0.0025968996,2.6199885e-05,0.9999472,2.5609264e-05,5.8155456e-05,2.9608553e-05,7.763163e-05,4.1437535e-05,0.98675853,0.00080466096,2.7219914e-05,5.2079045e-05,4.2209034e-05,0.00022249355,4.3129425e-05,0.9999833,0.9998683,0.00083116145,7.542386e-05,0.9999713,0.980478,0.003926067,0.99998534,0.00030734285,0.9996597,0.9999874,0.0026798574,0.99998057,0.60457987,4.408485e-05,0.99996805,0.9999884,9.2601185e-05,0.00024286416,4.084796e-05,0.00046281554,3.558627e-05,5.5190398e-05,2.2315113e-05,4.4773245e-05,0.00023921471,0.9999851,0.0003849717,0.9997822,6.583382e-05,3.34609e-05,0.9775351,3.463283e-05,0.0026324324,3.1162836e-05,7.27287e-05,0.00029198854,0.9993208,0.00021716123,0.9999671,0.2916664,3.7276037e-05,0.9884263,4.3481323e-05,0.9999855,0.00015014676,5.6167446e-05,0.0002833269,2.3623386e-05,0.00015751614,3.2717802e-05,3.2819113e-05,0.00033161673,2.764093e-05,0.99998075,0.9993968,0.00089319714,4.0546485e-05,3.3968117e-05,0.99997234,0.000121833255,0.0001105164,0.0009469084,5.7305402e-05,2.3758494e-05,5.8857997e-05,3.4922232e-05,0.9998919,0.999606,6.232489e-05,2.9852381e-05,2.8931294e-05,5.8887923e-05,0.9998412,2.8407307e-05,3.0554693e-05,0.0013527025,0.99998236,3.836534e-05,3.629096e-05,3.6383968e-05,0.000112285474,6.9145965e-05,3.1957356e-05,0.9999874,2.4983045e-05,5.959726e-05,4.365828e-05,3.8471106e-05,4.6793255e-05,3.4864664e-05,0.9999751,0.99930286,3.594477e-05,0.00034157434,0.99982834,0.9998535,4.394927e-05,5.2979205e-05,0.9995965,0.00038273478,6.047474e-05,3.816311e-05,2.9557094e-05,3.85124e-05,5.688947e-05,0.99998224,0.99998015,0.9999735,8.980197e-05,0.0037836707,3.8279457e-05,4.1247666e-05,4.582623e-05,6.992762e-05,3.2654898e-05,0.00016673526,0.00021128778,0.99942553,3.616248e-05,0.99954873,3.1963515e-05,0.00017546295,0.9999789,2.9760879e-05,4.7975383e-05,2.5044807e-05,0.91068155,0.4820786,7.0601694e-05,0.99998605,3.992098e-05,0.48404652,0.999961,0.00014289682,6.11655e-05,5.6628145e-05,3.201672e-05,0.00040922913,0.9596739,0.99998534,0.9978288,0.9999846,4.0131872e-05,6.116503e-05,0.9999277,0.9997365,5.2462372e-05,3.9282637e-05,5.131751e-05,5.430112e-05,0.9999865,0.99812585,0.998841,0.0018507395,2.8581324e-05,3.3711174e-05,8.0861624e-05,0.0001235627,6.071153e-05,0.000113495764,0.11329458,0.82379544,0.00037100006,3.925826e-05,0.00010582663,4.656765e-05,4.9918723e-05,6.0418242e-05,8.2890816e-05,3.1964522e-05,0.99991286,6.267277e-05,4.1978663e-05,0.99995536,3.2102264e-05,0.98509943,4.3817447e-05,2.8050588e-05,0.99998236,0.0002465354,0.9939189,0.9967616,0.99998486,0.00016843146,0.022709945,0.99993783,7.962167e-05,5.4991175e-05,5.041506e-05,0.0017999543,0.00039336985,6.870926e-05,0.00013459599,0.99998,0.00037453775,0.9999827,0.99998075,0.69063574,4.7312504e-05,0.9999776,0.00040259882,4.4839737e-05,5.0771458e-05,3.493579e-05,4.8114296e-05,0.9999852,0.99033964,6.3715415e-05,5.4436903e-05,0.9998123,0.00011143046,0.999982,3.5973062e-05,4.2647385e-05,0.0001987159,8.730855e-05,2.9398181e-05,0.99980366,0.00010474215,0.9938318,7.436891e-05,6.4057924e-05,0.99986726,9.333959e-05,3.5044803e-05],\"xaxis\":\"x\",\"yaxis\":\"y\",\"type\":\"histogram\"}],                        {\"template\":{\"data\":{\"histogram2dcontour\":[{\"type\":\"histogram2dcontour\",\"colorbar\":{\"outlinewidth\":0,\"ticks\":\"\"},\"colorscale\":[[0.0,\"#0d0887\"],[0.1111111111111111,\"#46039f\"],[0.2222222222222222,\"#7201a8\"],[0.3333333333333333,\"#9c179e\"],[0.4444444444444444,\"#bd3786\"],[0.5555555555555556,\"#d8576b\"],[0.6666666666666666,\"#ed7953\"],[0.7777777777777778,\"#fb9f3a\"],[0.8888888888888888,\"#fdca26\"],[1.0,\"#f0f921\"]]}],\"choropleth\":[{\"type\":\"choropleth\",\"colorbar\":{\"outlinewidth\":0,\"ticks\":\"\"}}],\"histogram2d\":[{\"type\":\"histogram2d\",\"colorbar\":{\"outlinewidth\":0,\"ticks\":\"\"},\"colorscale\":[[0.0,\"#0d0887\"],[0.1111111111111111,\"#46039f\"],[0.2222222222222222,\"#7201a8\"],[0.3333333333333333,\"#9c179e\"],[0.4444444444444444,\"#bd3786\"],[0.5555555555555556,\"#d8576b\"],[0.6666666666666666,\"#ed7953\"],[0.7777777777777778,\"#fb9f3a\"],[0.8888888888888888,\"#fdca26\"],[1.0,\"#f0f921\"]]}],\"heatmap\":[{\"type\":\"heatmap\",\"colorbar\":{\"outlinewidth\":0,\"ticks\":\"\"},\"colorscale\":[[0.0,\"#0d0887\"],[0.1111111111111111,\"#46039f\"],[0.2222222222222222,\"#7201a8\"],[0.3333333333333333,\"#9c179e\"],[0.4444444444444444,\"#bd3786\"],[0.5555555555555556,\"#d8576b\"],[0.6666666666666666,\"#ed7953\"],[0.7777777777777778,\"#fb9f3a\"],[0.8888888888888888,\"#fdca26\"],[1.0,\"#f0f921\"]]}],\"heatmapgl\":[{\"type\":\"heatmapgl\",\"colorbar\":{\"outlinewidth\":0,\"ticks\":\"\"},\"colorscale\":[[0.0,\"#0d0887\"],[0.1111111111111111,\"#46039f\"],[0.2222222222222222,\"#7201a8\"],[0.3333333333333333,\"#9c179e\"],[0.4444444444444444,\"#bd3786\"],[0.5555555555555556,\"#d8576b\"],[0.6666666666666666,\"#ed7953\"],[0.7777777777777778,\"#fb9f3a\"],[0.8888888888888888,\"#fdca26\"],[1.0,\"#f0f921\"]]}],\"contourcarpet\":[{\"type\":\"contourcarpet\",\"colorbar\":{\"outlinewidth\":0,\"ticks\":\"\"}}],\"contour\":[{\"type\":\"contour\",\"colorbar\":{\"outlinewidth\":0,\"ticks\":\"\"},\"colorscale\":[[0.0,\"#0d0887\"],[0.1111111111111111,\"#46039f\"],[0.2222222222222222,\"#7201a8\"],[0.3333333333333333,\"#9c179e\"],[0.4444444444444444,\"#bd3786\"],[0.5555555555555556,\"#d8576b\"],[0.6666666666666666,\"#ed7953\"],[0.7777777777777778,\"#fb9f3a\"],[0.8888888888888888,\"#fdca26\"],[1.0,\"#f0f921\"]]}],\"surface\":[{\"type\":\"surface\",\"colorbar\":{\"outlinewidth\":0,\"ticks\":\"\"},\"colorscale\":[[0.0,\"#0d0887\"],[0.1111111111111111,\"#46039f\"],[0.2222222222222222,\"#7201a8\"],[0.3333333333333333,\"#9c179e\"],[0.4444444444444444,\"#bd3786\"],[0.5555555555555556,\"#d8576b\"],[0.6666666666666666,\"#ed7953\"],[0.7777777777777778,\"#fb9f3a\"],[0.8888888888888888,\"#fdca26\"],[1.0,\"#f0f921\"]]}],\"mesh3d\":[{\"type\":\"mesh3d\",\"colorbar\":{\"outlinewidth\":0,\"ticks\":\"\"}}],\"scatter\":[{\"fillpattern\":{\"fillmode\":\"overlay\",\"size\":10,\"solidity\":0.2},\"type\":\"scatter\"}],\"parcoords\":[{\"type\":\"parcoords\",\"line\":{\"colorbar\":{\"outlinewidth\":0,\"ticks\":\"\"}}}],\"scatterpolargl\":[{\"type\":\"scatterpolargl\",\"marker\":{\"colorbar\":{\"outlinewidth\":0,\"ticks\":\"\"}}}],\"bar\":[{\"error_x\":{\"color\":\"#2a3f5f\"},\"error_y\":{\"color\":\"#2a3f5f\"},\"marker\":{\"line\":{\"color\":\"#E5ECF6\",\"width\":0.5},\"pattern\":{\"fillmode\":\"overlay\",\"size\":10,\"solidity\":0.2}},\"type\":\"bar\"}],\"scattergeo\":[{\"type\":\"scattergeo\",\"marker\":{\"colorbar\":{\"outlinewidth\":0,\"ticks\":\"\"}}}],\"scatterpolar\":[{\"type\":\"scatterpolar\",\"marker\":{\"colorbar\":{\"outlinewidth\":0,\"ticks\":\"\"}}}],\"histogram\":[{\"marker\":{\"pattern\":{\"fillmode\":\"overlay\",\"size\":10,\"solidity\":0.2}},\"type\":\"histogram\"}],\"scattergl\":[{\"type\":\"scattergl\",\"marker\":{\"colorbar\":{\"outlinewidth\":0,\"ticks\":\"\"}}}],\"scatter3d\":[{\"type\":\"scatter3d\",\"line\":{\"colorbar\":{\"outlinewidth\":0,\"ticks\":\"\"}},\"marker\":{\"colorbar\":{\"outlinewidth\":0,\"ticks\":\"\"}}}],\"scattermapbox\":[{\"type\":\"scattermapbox\",\"marker\":{\"colorbar\":{\"outlinewidth\":0,\"ticks\":\"\"}}}],\"scatterternary\":[{\"type\":\"scatterternary\",\"marker\":{\"colorbar\":{\"outlinewidth\":0,\"ticks\":\"\"}}}],\"scattercarpet\":[{\"type\":\"scattercarpet\",\"marker\":{\"colorbar\":{\"outlinewidth\":0,\"ticks\":\"\"}}}],\"carpet\":[{\"aaxis\":{\"endlinecolor\":\"#2a3f5f\",\"gridcolor\":\"white\",\"linecolor\":\"white\",\"minorgridcolor\":\"white\",\"startlinecolor\":\"#2a3f5f\"},\"baxis\":{\"endlinecolor\":\"#2a3f5f\",\"gridcolor\":\"white\",\"linecolor\":\"white\",\"minorgridcolor\":\"white\",\"startlinecolor\":\"#2a3f5f\"},\"type\":\"carpet\"}],\"table\":[{\"cells\":{\"fill\":{\"color\":\"#EBF0F8\"},\"line\":{\"color\":\"white\"}},\"header\":{\"fill\":{\"color\":\"#C8D4E3\"},\"line\":{\"color\":\"white\"}},\"type\":\"table\"}],\"barpolar\":[{\"marker\":{\"line\":{\"color\":\"#E5ECF6\",\"width\":0.5},\"pattern\":{\"fillmode\":\"overlay\",\"size\":10,\"solidity\":0.2}},\"type\":\"barpolar\"}],\"pie\":[{\"automargin\":true,\"type\":\"pie\"}]},\"layout\":{\"autotypenumbers\":\"strict\",\"colorway\":[\"#636efa\",\"#EF553B\",\"#00cc96\",\"#ab63fa\",\"#FFA15A\",\"#19d3f3\",\"#FF6692\",\"#B6E880\",\"#FF97FF\",\"#FECB52\"],\"font\":{\"color\":\"#2a3f5f\"},\"hovermode\":\"closest\",\"hoverlabel\":{\"align\":\"left\"},\"paper_bgcolor\":\"white\",\"plot_bgcolor\":\"#E5ECF6\",\"polar\":{\"bgcolor\":\"#E5ECF6\",\"angularaxis\":{\"gridcolor\":\"white\",\"linecolor\":\"white\",\"ticks\":\"\"},\"radialaxis\":{\"gridcolor\":\"white\",\"linecolor\":\"white\",\"ticks\":\"\"}},\"ternary\":{\"bgcolor\":\"#E5ECF6\",\"aaxis\":{\"gridcolor\":\"white\",\"linecolor\":\"white\",\"ticks\":\"\"},\"baxis\":{\"gridcolor\":\"white\",\"linecolor\":\"white\",\"ticks\":\"\"},\"caxis\":{\"gridcolor\":\"white\",\"linecolor\":\"white\",\"ticks\":\"\"}},\"coloraxis\":{\"colorbar\":{\"outlinewidth\":0,\"ticks\":\"\"}},\"colorscale\":{\"sequential\":[[0.0,\"#0d0887\"],[0.1111111111111111,\"#46039f\"],[0.2222222222222222,\"#7201a8\"],[0.3333333333333333,\"#9c179e\"],[0.4444444444444444,\"#bd3786\"],[0.5555555555555556,\"#d8576b\"],[0.6666666666666666,\"#ed7953\"],[0.7777777777777778,\"#fb9f3a\"],[0.8888888888888888,\"#fdca26\"],[1.0,\"#f0f921\"]],\"sequentialminus\":[[0.0,\"#0d0887\"],[0.1111111111111111,\"#46039f\"],[0.2222222222222222,\"#7201a8\"],[0.3333333333333333,\"#9c179e\"],[0.4444444444444444,\"#bd3786\"],[0.5555555555555556,\"#d8576b\"],[0.6666666666666666,\"#ed7953\"],[0.7777777777777778,\"#fb9f3a\"],[0.8888888888888888,\"#fdca26\"],[1.0,\"#f0f921\"]],\"diverging\":[[0,\"#8e0152\"],[0.1,\"#c51b7d\"],[0.2,\"#de77ae\"],[0.3,\"#f1b6da\"],[0.4,\"#fde0ef\"],[0.5,\"#f7f7f7\"],[0.6,\"#e6f5d0\"],[0.7,\"#b8e186\"],[0.8,\"#7fbc41\"],[0.9,\"#4d9221\"],[1,\"#276419\"]]},\"xaxis\":{\"gridcolor\":\"white\",\"linecolor\":\"white\",\"ticks\":\"\",\"title\":{\"standoff\":15},\"zerolinecolor\":\"white\",\"automargin\":true,\"zerolinewidth\":2},\"yaxis\":{\"gridcolor\":\"white\",\"linecolor\":\"white\",\"ticks\":\"\",\"title\":{\"standoff\":15},\"zerolinecolor\":\"white\",\"automargin\":true,\"zerolinewidth\":2},\"scene\":{\"xaxis\":{\"backgroundcolor\":\"#E5ECF6\",\"gridcolor\":\"white\",\"linecolor\":\"white\",\"showbackground\":true,\"ticks\":\"\",\"zerolinecolor\":\"white\",\"gridwidth\":2},\"yaxis\":{\"backgroundcolor\":\"#E5ECF6\",\"gridcolor\":\"white\",\"linecolor\":\"white\",\"showbackground\":true,\"ticks\":\"\",\"zerolinecolor\":\"white\",\"gridwidth\":2},\"zaxis\":{\"backgroundcolor\":\"#E5ECF6\",\"gridcolor\":\"white\",\"linecolor\":\"white\",\"showbackground\":true,\"ticks\":\"\",\"zerolinecolor\":\"white\",\"gridwidth\":2}},\"shapedefaults\":{\"line\":{\"color\":\"#2a3f5f\"}},\"annotationdefaults\":{\"arrowcolor\":\"#2a3f5f\",\"arrowhead\":0,\"arrowwidth\":1},\"geo\":{\"bgcolor\":\"white\",\"landcolor\":\"#E5ECF6\",\"subunitcolor\":\"white\",\"showland\":true,\"showlakes\":true,\"lakecolor\":\"white\"},\"title\":{\"x\":0.05},\"mapbox\":{\"style\":\"light\"}}},\"xaxis\":{\"anchor\":\"y\",\"domain\":[0.0,1.0],\"title\":{\"text\":\"0\"}},\"yaxis\":{\"anchor\":\"x\",\"domain\":[0.0,1.0],\"title\":{\"text\":\"count\"}},\"legend\":{\"tracegroupgap\":0},\"margin\":{\"t\":60},\"barmode\":\"relative\"},                        {\"responsive\": true}                    ).then(function(){\n",
       "                            \n",
       "var gd = document.getElementById('7592eedd-9547-4089-aabd-31cee189fc53');\n",
       "var x = new MutationObserver(function (mutations, observer) {{\n",
       "        var display = window.getComputedStyle(gd).display;\n",
       "        if (!display || display === 'none') {{\n",
       "            console.log([gd, 'removed!']);\n",
       "            Plotly.purge(gd);\n",
       "            observer.disconnect();\n",
       "        }}\n",
       "}});\n",
       "\n",
       "// Listen for the removal of the full notebook cells\n",
       "var notebookContainer = gd.closest('#notebook-container');\n",
       "if (notebookContainer) {{\n",
       "    x.observe(notebookContainer, {childList: true});\n",
       "}}\n",
       "\n",
       "// Listen for the clearing of the current output cell\n",
       "var outputEl = gd.closest('.output');\n",
       "if (outputEl) {{\n",
       "    x.observe(outputEl, {childList: true});\n",
       "}}\n",
       "\n",
       "                        })                };                });            </script>        </div>"
      ]
     },
     "metadata": {},
     "output_type": "display_data"
    }
   ],
   "source": [
    "import plotly.express as px\n",
    "\n",
    "\n",
    "fig = px.histogram(t, x='0', nbins= 2)\n",
    "fig.show()"
   ]
  }
 ],
 "metadata": {
  "kernelspec": {
   "display_name": "Python 3 (ipykernel)",
   "language": "python",
   "name": "python3"
  },
  "language_info": {
   "codemirror_mode": {
    "name": "ipython",
    "version": 3
   },
   "file_extension": ".py",
   "mimetype": "text/x-python",
   "name": "python",
   "nbconvert_exporter": "python",
   "pygments_lexer": "ipython3",
   "version": "3.10.13"
  }
 },
 "nbformat": 4,
 "nbformat_minor": 5
}
