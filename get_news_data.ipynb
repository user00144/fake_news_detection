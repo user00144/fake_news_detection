{
 "cells": [
  {
   "cell_type": "code",
   "execution_count": 1,
   "id": "00fdd184-59e7-4a83-ac20-a4fd1943b7a4",
   "metadata": {},
   "outputs": [],
   "source": [
    "import pandas as pd"
   ]
  },
  {
   "cell_type": "code",
   "execution_count": 10,
   "id": "d0ffe2fd-3f27-4924-a081-95d1c13988b7",
   "metadata": {},
   "outputs": [],
   "source": [
    "df = pd.read_csv('news.csv')"
   ]
  },
  {
   "cell_type": "code",
   "execution_count": 31,
   "id": "1345b58a-8cbe-4a6b-830e-7e498c2c2a2e",
   "metadata": {},
   "outputs": [],
   "source": [
    "for i in range(len(df.content)) :\n",
    "    df.iloc[i].content = df.iloc[i].content.strip('이미지=')\n"
   ]
  },
  {
   "cell_type": "code",
   "execution_count": 33,
   "id": "eca82a88-1cc5-4d71-aada-75f8ebed2caa",
   "metadata": {},
   "outputs": [],
   "source": [
    "df.to_csv('news.csv', index = False)"
   ]
  }
 ],
 "metadata": {
  "kernelspec": {
   "display_name": "Python 3 (ipykernel)",
   "language": "python",
   "name": "python3"
  },
  "language_info": {
   "codemirror_mode": {
    "name": "ipython",
    "version": 3
   },
   "file_extension": ".py",
   "mimetype": "text/x-python",
   "name": "python",
   "nbconvert_exporter": "python",
   "pygments_lexer": "ipython3",
   "version": "3.10.13"
  }
 },
 "nbformat": 4,
 "nbformat_minor": 5
}
